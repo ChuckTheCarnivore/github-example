{
    "cells": [
        {
            "metadata": {},
            "cell_type": "markdown",
            "source": "# Capstone Project - The Battle of the Neighborhoods (Week 4 & 5)\n### Applied Data Science Capstone by IBM/Coursera"
        },
        {
            "metadata": {},
            "cell_type": "markdown",
            "source": "## Table of contents\n* [Introduction: Similarity of Neighborhoods](#introduction)\n* [Data](#data)"
        },
        {
            "metadata": {},
            "cell_type": "markdown",
            "source": "## Introduction: Similarity of Neighborhoods <a name=\"introduction\"></a>"
        },
        {
            "metadata": {},
            "cell_type": "markdown",
            "source": "In this project, we will try to make comparison on neighborhoods of several major financial capitals. Inspired by the question asked in the Week 4 description, namely the similarity or dissimilarity of cities, we will try to group the neighborhoods and boroughs over different cities, as a preliminary attempt to identify the functionality and types of them. My hope it that such categorization will shed light on the design of cities of similar type in the future and on relevant studies of developments and design of cities. "
        },
        {
            "metadata": {},
            "cell_type": "markdown",
            "source": "## Data <a name=\"data\"></a>"
        },
        {
            "metadata": {},
            "cell_type": "markdown",
            "source": "Aside from a couple of tables, which we will obtain by scraping some webpages, we will also make use of **geopy** for the geospatial location of neighboorhoods. We will also access information of venues using **Foursquare API**."
        },
        {
            "metadata": {},
            "cell_type": "markdown",
            "source": "First, let's load up the libraries. lxml is used for parsing the html content involved in table wrangling. geopy is used to obtain geospatial location from address. Also, we will use K Means clustering."
        },
        {
            "metadata": {},
            "cell_type": "code",
            "source": "import numpy as np\nimport pandas as pd\nimport requests\nimport lxml.html as lh\n!conda install -c conda-forge geopy --yes # uncomment this line if you haven't completed the Foursquare API lab\nfrom geopy.geocoders import Nominatim # convert an address into latitude and longitude values\n\nimport json # library to handle JSON files\nimport requests # library to handle requests\nfrom pandas.io.json import json_normalize # tranform JSON file into a pandas dataframe\n\n# Matplotlib and associated plotting modules\nimport matplotlib.cm as cm\nimport matplotlib.colors as colors\n\n# import k-means from clustering stage\nfrom sklearn.cluster import KMeans\n\n!conda install -c conda-forge folium=0.5.0 --yes # uncomment this line if you haven't completed the Foursquare API lab\nimport folium # map rendering library\n\nprint('Libraries imported.')",
            "execution_count": 1,
            "outputs": [
                {
                    "output_type": "stream",
                    "text": "Solving environment: done\n\n# All requested packages already installed.\n\nSolving environment: done\n\n## Package Plan ##\n\n  environment location: /opt/conda/envs/Python36\n\n  added / updated specs: \n    - folium=0.5.0\n\n\nThe following packages will be downloaded:\n\n    package                    |            build\n    ---------------------------|-----------------\n    altair-4.1.0               |             py_1         614 KB  conda-forge\n    branca-0.4.1               |             py_0          26 KB  conda-forge\n    folium-0.5.0               |             py_0          45 KB  conda-forge\n    vincent-0.4.4              |             py_1          28 KB  conda-forge\n    ------------------------------------------------------------\n                                           Total:         713 KB\n\nThe following NEW packages will be INSTALLED:\n\n    altair:  4.1.0-py_1 conda-forge\n    branca:  0.4.1-py_0 conda-forge\n    folium:  0.5.0-py_0 conda-forge\n    vincent: 0.4.4-py_1 conda-forge\n\n\nDownloading and Extracting Packages\naltair-4.1.0         | 614 KB    | ##################################### | 100% \nbranca-0.4.1         | 26 KB     | ##################################### | 100% \nfolium-0.5.0         | 45 KB     | ##################################### | 100% \nvincent-0.4.4        | 28 KB     | ##################################### | 100% \nPreparing transaction: done\nVerifying transaction: done\nExecuting transaction: done\nLibraries imported.\n",
                    "name": "stdout"
                }
            ]
        },
        {
            "metadata": {},
            "cell_type": "markdown",
            "source": "In the wikipedia page below, I found the table for the 20 districts of Paris. Let's wrangle it. (Note: 20 is a somewhat smaller number of districts as compared to New York data, although comparable to Toronto. However, with the attempt I made, I could not find any more detailed infos on the smaller administritive zones. Please let me know in case you know where to get it. As a preliminary attempt, we are good with 20 districts.)"
        },
        {
            "metadata": {},
            "cell_type": "code",
            "source": "url = 'https://en.wikipedia.org/wiki/Arrondissements_of_Paris'\npage = requests.get(url)\ndoc = lh.fromstring(page.content)\ntr_elements = doc.xpath('//tr')",
            "execution_count": 68,
            "outputs": []
        },
        {
            "metadata": {},
            "cell_type": "markdown",
            "source": "Through trial and error, we get to know that the 15-34 entries are the \"Arrondissements\"(French word for county or district) we need. And we need only the names for future location checking. We will make a list of these names."
        },
        {
            "metadata": {},
            "cell_type": "code",
            "source": "paris_dist = []\nfor x in range(15,35):\n    paris_dist.append(tr_elements[x].text_content().split('\\n')[2])\nprint(paris_dist)",
            "execution_count": 3,
            "outputs": [
                {
                    "output_type": "stream",
                    "text": "['Louvre', 'Bourse', 'Temple', 'H\u00f4tel-de-Ville', 'Panth\u00e9on', 'Luxembourg', 'Palais-Bourbon', '\u00c9lys\u00e9e', 'Op\u00e9ra', 'Entrep\u00f4t', 'Popincourt', 'Reuilly', 'Gobelins', 'Observatoire', 'Vaugirard', 'Passy', 'Batignolles-Monceau', 'Butte-Montmartre', 'Buttes-Chaumont', 'M\u00e9nilmontant']\n",
                    "name": "stdout"
                }
            ]
        },
        {
            "metadata": {},
            "cell_type": "markdown",
            "source": "Now we will obtain the geospatial location from the district names using geopy. "
        },
        {
            "metadata": {},
            "cell_type": "code",
            "source": "suffix = ', Paris, France'\nlats = []\nlongs = []\n\ngeolocator = Nominatim(user_agent=\"ny_explorer\")\nfor i in range(len(paris_dist)):\n    location = geolocator.geocode(paris_dist[i] + suffix)\n    latitude = location.latitude\n    longitude = location.longitude\n    lats.append(latitude)\n    longs.append(longitude)\nprint(lats,longs)",
            "execution_count": 4,
            "outputs": [
                {
                    "output_type": "stream",
                    "text": "[48.8611473, 48.8686296, 48.8665004, 48.856426299999995, 48.84619085, 48.8504333, 48.86159615, 48.8466437, 48.8706446, 48.876106, 48.858416, 48.8396154, 48.8323973, 48.8295667, 48.8413705, 48.8575047, 48.881452, 48.8900117, 48.8783961, 48.8667079] [2.33802768704666, 2.3414739, 2.360708, 2.3525275780116073, 2.346078521905153, 2.3329507, 2.3179092733655935, 2.3698297, 2.33233, 2.35991, 2.379703, 2.3957517, 2.3555829, 2.3239624642685364, 2.3003827, 2.2809828, 2.3166666, 2.3464668, 2.3812008, 2.3833739]\n",
                    "name": "stdout"
                }
            ]
        },
        {
            "metadata": {},
            "cell_type": "markdown",
            "source": "Make a dataframe. **(Note: 'Neighborhood' column will be named 'Hood' in all three dataframe (Paris, Toronto, and NY) involved in this project. Because I found that there are venues in Toronto and New York categorized as 'Neighborhood' (returnd by Foursquare queries), making it a problem joining the dataframes correctly after one-hot encoding.)**"
        },
        {
            "metadata": {},
            "cell_type": "code",
            "source": "paris_dict = {'Hood': paris_dist, 'Latitude': lats, 'Longitude':longs}\ndf_paris = pd.DataFrame(paris_dict)\ndf_paris",
            "execution_count": 5,
            "outputs": [
                {
                    "output_type": "execute_result",
                    "execution_count": 5,
                    "data": {
                        "text/plain": "                   Hood   Latitude  Longitude\n0                Louvre  48.861147   2.338028\n1                Bourse  48.868630   2.341474\n2                Temple  48.866500   2.360708\n3        H\u00f4tel-de-Ville  48.856426   2.352528\n4              Panth\u00e9on  48.846191   2.346079\n5            Luxembourg  48.850433   2.332951\n6        Palais-Bourbon  48.861596   2.317909\n7                \u00c9lys\u00e9e  48.846644   2.369830\n8                 Op\u00e9ra  48.870645   2.332330\n9              Entrep\u00f4t  48.876106   2.359910\n10           Popincourt  48.858416   2.379703\n11              Reuilly  48.839615   2.395752\n12             Gobelins  48.832397   2.355583\n13         Observatoire  48.829567   2.323962\n14            Vaugirard  48.841370   2.300383\n15                Passy  48.857505   2.280983\n16  Batignolles-Monceau  48.881452   2.316667\n17     Butte-Montmartre  48.890012   2.346467\n18      Buttes-Chaumont  48.878396   2.381201\n19         M\u00e9nilmontant  48.866708   2.383374",
                        "text/html": "<div>\n<style scoped>\n    .dataframe tbody tr th:only-of-type {\n        vertical-align: middle;\n    }\n\n    .dataframe tbody tr th {\n        vertical-align: top;\n    }\n\n    .dataframe thead th {\n        text-align: right;\n    }\n</style>\n<table border=\"1\" class=\"dataframe\">\n  <thead>\n    <tr style=\"text-align: right;\">\n      <th></th>\n      <th>Hood</th>\n      <th>Latitude</th>\n      <th>Longitude</th>\n    </tr>\n  </thead>\n  <tbody>\n    <tr>\n      <th>0</th>\n      <td>Louvre</td>\n      <td>48.861147</td>\n      <td>2.338028</td>\n    </tr>\n    <tr>\n      <th>1</th>\n      <td>Bourse</td>\n      <td>48.868630</td>\n      <td>2.341474</td>\n    </tr>\n    <tr>\n      <th>2</th>\n      <td>Temple</td>\n      <td>48.866500</td>\n      <td>2.360708</td>\n    </tr>\n    <tr>\n      <th>3</th>\n      <td>H\u00f4tel-de-Ville</td>\n      <td>48.856426</td>\n      <td>2.352528</td>\n    </tr>\n    <tr>\n      <th>4</th>\n      <td>Panth\u00e9on</td>\n      <td>48.846191</td>\n      <td>2.346079</td>\n    </tr>\n    <tr>\n      <th>5</th>\n      <td>Luxembourg</td>\n      <td>48.850433</td>\n      <td>2.332951</td>\n    </tr>\n    <tr>\n      <th>6</th>\n      <td>Palais-Bourbon</td>\n      <td>48.861596</td>\n      <td>2.317909</td>\n    </tr>\n    <tr>\n      <th>7</th>\n      <td>\u00c9lys\u00e9e</td>\n      <td>48.846644</td>\n      <td>2.369830</td>\n    </tr>\n    <tr>\n      <th>8</th>\n      <td>Op\u00e9ra</td>\n      <td>48.870645</td>\n      <td>2.332330</td>\n    </tr>\n    <tr>\n      <th>9</th>\n      <td>Entrep\u00f4t</td>\n      <td>48.876106</td>\n      <td>2.359910</td>\n    </tr>\n    <tr>\n      <th>10</th>\n      <td>Popincourt</td>\n      <td>48.858416</td>\n      <td>2.379703</td>\n    </tr>\n    <tr>\n      <th>11</th>\n      <td>Reuilly</td>\n      <td>48.839615</td>\n      <td>2.395752</td>\n    </tr>\n    <tr>\n      <th>12</th>\n      <td>Gobelins</td>\n      <td>48.832397</td>\n      <td>2.355583</td>\n    </tr>\n    <tr>\n      <th>13</th>\n      <td>Observatoire</td>\n      <td>48.829567</td>\n      <td>2.323962</td>\n    </tr>\n    <tr>\n      <th>14</th>\n      <td>Vaugirard</td>\n      <td>48.841370</td>\n      <td>2.300383</td>\n    </tr>\n    <tr>\n      <th>15</th>\n      <td>Passy</td>\n      <td>48.857505</td>\n      <td>2.280983</td>\n    </tr>\n    <tr>\n      <th>16</th>\n      <td>Batignolles-Monceau</td>\n      <td>48.881452</td>\n      <td>2.316667</td>\n    </tr>\n    <tr>\n      <th>17</th>\n      <td>Butte-Montmartre</td>\n      <td>48.890012</td>\n      <td>2.346467</td>\n    </tr>\n    <tr>\n      <th>18</th>\n      <td>Buttes-Chaumont</td>\n      <td>48.878396</td>\n      <td>2.381201</td>\n    </tr>\n    <tr>\n      <th>19</th>\n      <td>M\u00e9nilmontant</td>\n      <td>48.866708</td>\n      <td>2.383374</td>\n    </tr>\n  </tbody>\n</table>\n</div>"
                    },
                    "metadata": {}
                }
            ]
        },
        {
            "metadata": {},
            "cell_type": "markdown",
            "source": "Let us also test the folium map by visualizing Paris and its arrondissements."
        },
        {
            "metadata": {},
            "cell_type": "code",
            "source": "address = 'Paris, France'\n\nlocation = geolocator.geocode(address)\nlatitude = location.latitude\nlongitude = location.longitude\nprint('The geograpical coordinate of Paris are {}, {}.'.format(latitude, longitude))",
            "execution_count": 6,
            "outputs": [
                {
                    "output_type": "stream",
                    "text": "The geograpical coordinate of Paris are 48.8566969, 2.3514616.\n",
                    "name": "stdout"
                }
            ]
        },
        {
            "metadata": {
                "scrolled": true
            },
            "cell_type": "code",
            "source": "# create map of New York using latitude and longitude values\nmap_paris = folium.Map(location=[latitude, longitude], zoom_start=10)\n\n# add markers to map\nfor lat, lng, neighborhood in zip(df_paris['Latitude'], df_paris['Longitude'], df_paris['Hood']):\n    label = '{}'.format(neighborhood)\n    label = folium.Popup(label, parse_html=True)\n    folium.CircleMarker(\n        [lat, lng],\n        radius=5,\n        popup=label,\n        color='blue',\n        fill=True,\n        fill_color='#3186cc',\n        fill_opacity=0.7,\n        parse_html=False).add_to(map_paris)  \n    \nmap_paris",
            "execution_count": 7,
            "outputs": [
                {
                    "output_type": "execute_result",
                    "execution_count": 7,
                    "data": {
                        "text/plain": "<folium.folium.Map at 0x7f467b499780>",
                        "text/html": "<div style=\"width:100%;\"><div style=\"position:relative;width:100%;height:0;padding-bottom:60%;\"><span style=\"color:#565656\">Make this Notebook Trusted to load map: File -> Trust Notebook</span><iframe src=\"about:blank\" style=\"position:absolute;width:100%;height:100%;left:0;top:0;border:none !important;\" data-html=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 onload=\"this.contentDocument.open();this.contentDocument.write(atob(this.getAttribute('data-html')));this.contentDocument.close();\" allowfullscreen webkitallowfullscreen mozallowfullscreen></iframe></div></div>"
                    },
                    "metadata": {}
                }
            ]
        },
        {
            "metadata": {},
            "cell_type": "markdown",
            "source": "Now we will tackle the Toronto table. The process is similar to Week 3's assignment. "
        },
        {
            "metadata": {},
            "cell_type": "code",
            "source": "url = \"https://en.wikipedia.org/wiki/List_of_postal_codes_of_Canada:_M\"\npage = requests.get(url)\ndoc = lh.fromstring(page.content)\ntr_elements = doc.xpath('//tr')",
            "execution_count": 8,
            "outputs": []
        },
        {
            "metadata": {},
            "cell_type": "code",
            "source": "col=[]\ni=0\n#For each row, store each first element (header) and an empty list\nfor t in tr_elements[0]:\n    i+=1\n    name=t.text_content().replace('\\n','')\n    print('%d:\"%s\"'%(i,name))\n    col.append((name,[]))",
            "execution_count": 9,
            "outputs": [
                {
                    "output_type": "stream",
                    "text": "1:\"Postal Code\"\n2:\"Borough\"\n3:\"Neighborhood\"\n",
                    "name": "stdout"
                }
            ]
        },
        {
            "metadata": {},
            "cell_type": "code",
            "source": "#Since out first row is the header, data is stored on the second row onwards\nfor j in range(1,len(tr_elements)):\n    #T is our j'th row\n    T=tr_elements[j]\n    \n    #If row is not of size 10, the //tr data is not from our table \n    if len(T)!=3:\n        break\n    \n    #i is the index of our column\n    i=0\n    \n    #Iterate through each element of the row\n    for t in T.iterchildren():\n        data=t.text_content().replace('\\n','')\n        col[i][1].append(data)\n        #Increment i for the next column\n        i+=1",
            "execution_count": 10,
            "outputs": []
        },
        {
            "metadata": {},
            "cell_type": "markdown",
            "source": "What the last part does, is that it builds up a list of 3 tuples, each of which contains the name of a column, and a list that holds the content of the column in postal code table."
        },
        {
            "metadata": {},
            "cell_type": "code",
            "source": "Dict={title:column for (title,column) in col}\ndf=pd.DataFrame(Dict)\n# Somehow the last row of [[],['Canadian Postal Code'], []] is always included. \n# Couldn't figure out the cause, just deleted it directly.\ndf = df[:-1]\nmsk = (df.Borough == 'Not assigned')\ndf = df[~msk]\ndf.reset_index(drop=True)\ndf.rename(columns={'Neighborhood':'Hood'},inplace=True)",
            "execution_count": 11,
            "outputs": []
        },
        {
            "metadata": {},
            "cell_type": "markdown",
            "source": "Again, we take only the assigned rows as we are only interested in the boroughs. Again, 'Neighborhood' is renamed as 'Hood', due to the potential issue that we already mentioned. "
        },
        {
            "metadata": {},
            "cell_type": "code",
            "source": "ll = pd.read_csv(\"https://cocl.us/Geospatial_data\")\ndf = df.merge(ll, on='Postal Code')\nmsk = []\nfor x in df['Borough']:\n    msk.append('Toronto' in x)\nmsk\ndf_toronto = df[msk]\ndf_toronto.reset_index(drop=True)",
            "execution_count": 12,
            "outputs": [
                {
                    "output_type": "execute_result",
                    "execution_count": 12,
                    "data": {
                        "text/plain": "   Postal Code           Borough  \\\n0          M5A  Downtown Toronto   \n1          M7A  Downtown Toronto   \n2          M5B  Downtown Toronto   \n3          M5C  Downtown Toronto   \n4          M4E      East Toronto   \n5          M5E  Downtown Toronto   \n6          M5G  Downtown Toronto   \n7          M6G  Downtown Toronto   \n8          M5H  Downtown Toronto   \n9          M6H      West Toronto   \n10         M5J  Downtown Toronto   \n11         M6J      West Toronto   \n12         M4K      East Toronto   \n13         M5K  Downtown Toronto   \n14         M6K      West Toronto   \n15         M4L      East Toronto   \n16         M5L  Downtown Toronto   \n17         M4M      East Toronto   \n18         M4N   Central Toronto   \n19         M5N   Central Toronto   \n20         M4P   Central Toronto   \n21         M5P   Central Toronto   \n22         M6P      West Toronto   \n23         M4R   Central Toronto   \n24         M5R   Central Toronto   \n25         M6R      West Toronto   \n26         M4S   Central Toronto   \n27         M5S  Downtown Toronto   \n28         M6S      West Toronto   \n29         M4T   Central Toronto   \n30         M5T  Downtown Toronto   \n31         M4V   Central Toronto   \n32         M5V  Downtown Toronto   \n33         M4W  Downtown Toronto   \n34         M5W  Downtown Toronto   \n35         M4X  Downtown Toronto   \n36         M5X  Downtown Toronto   \n37         M4Y  Downtown Toronto   \n38         M7Y      East Toronto   \n\n                                                 Hood   Latitude  Longitude  \n0                           Regent Park, Harbourfront  43.654260 -79.360636  \n1         Queen's Park, Ontario Provincial Government  43.662301 -79.389494  \n2                            Garden District, Ryerson  43.657162 -79.378937  \n3                                      St. James Town  43.651494 -79.375418  \n4                                         The Beaches  43.676357 -79.293031  \n5                                         Berczy Park  43.644771 -79.373306  \n6                                  Central Bay Street  43.657952 -79.387383  \n7                                            Christie  43.669542 -79.422564  \n8                            Richmond, Adelaide, King  43.650571 -79.384568  \n9                        Dufferin, Dovercourt Village  43.669005 -79.442259  \n10  Harbourfront East, Union Station, Toronto Islands  43.640816 -79.381752  \n11                           Little Portugal, Trinity  43.647927 -79.419750  \n12                       The Danforth West, Riverdale  43.679557 -79.352188  \n13           Toronto Dominion Centre, Design Exchange  43.647177 -79.381576  \n14       Brockton, Parkdale Village, Exhibition Place  43.636847 -79.428191  \n15                     India Bazaar, The Beaches West  43.668999 -79.315572  \n16                     Commerce Court, Victoria Hotel  43.648198 -79.379817  \n17                                    Studio District  43.659526 -79.340923  \n18                                      Lawrence Park  43.728020 -79.388790  \n19                                           Roselawn  43.711695 -79.416936  \n20                                   Davisville North  43.712751 -79.390197  \n21    Forest Hill North & West, Forest Hill Road Park  43.696948 -79.411307  \n22                      High Park, The Junction South  43.661608 -79.464763  \n23                 North Toronto West,  Lawrence Park  43.715383 -79.405678  \n24                The Annex, North Midtown, Yorkville  43.672710 -79.405678  \n25                             Parkdale, Roncesvalles  43.648960 -79.456325  \n26                                         Davisville  43.704324 -79.388790  \n27                     University of Toronto, Harbord  43.662696 -79.400049  \n28                                 Runnymede, Swansea  43.651571 -79.484450  \n29                        Moore Park, Summerhill East  43.689574 -79.383160  \n30          Kensington Market, Chinatown, Grange Park  43.653206 -79.400049  \n31  Summerhill West, Rathnelly, South Hill, Forest...  43.686412 -79.400049  \n32  CN Tower, King and Spadina, Railway Lands, Har...  43.628947 -79.394420  \n33                                           Rosedale  43.679563 -79.377529  \n34                                     Stn A PO Boxes  43.646435 -79.374846  \n35                        St. James Town, Cabbagetown  43.667967 -79.367675  \n36             First Canadian Place, Underground city  43.648429 -79.382280  \n37                               Church and Wellesley  43.665860 -79.383160  \n38  Business reply mail Processing Centre, South C...  43.662744 -79.321558  ",
                        "text/html": "<div>\n<style scoped>\n    .dataframe tbody tr th:only-of-type {\n        vertical-align: middle;\n    }\n\n    .dataframe tbody tr th {\n        vertical-align: top;\n    }\n\n    .dataframe thead th {\n        text-align: right;\n    }\n</style>\n<table border=\"1\" class=\"dataframe\">\n  <thead>\n    <tr style=\"text-align: right;\">\n      <th></th>\n      <th>Postal Code</th>\n      <th>Borough</th>\n      <th>Hood</th>\n      <th>Latitude</th>\n      <th>Longitude</th>\n    </tr>\n  </thead>\n  <tbody>\n    <tr>\n      <th>0</th>\n      <td>M5A</td>\n      <td>Downtown Toronto</td>\n      <td>Regent Park, Harbourfront</td>\n      <td>43.654260</td>\n      <td>-79.360636</td>\n    </tr>\n    <tr>\n      <th>1</th>\n      <td>M7A</td>\n      <td>Downtown Toronto</td>\n      <td>Queen's Park, Ontario Provincial Government</td>\n      <td>43.662301</td>\n      <td>-79.389494</td>\n    </tr>\n    <tr>\n      <th>2</th>\n      <td>M5B</td>\n      <td>Downtown Toronto</td>\n      <td>Garden District, Ryerson</td>\n      <td>43.657162</td>\n      <td>-79.378937</td>\n    </tr>\n    <tr>\n      <th>3</th>\n      <td>M5C</td>\n      <td>Downtown Toronto</td>\n      <td>St. James Town</td>\n      <td>43.651494</td>\n      <td>-79.375418</td>\n    </tr>\n    <tr>\n      <th>4</th>\n      <td>M4E</td>\n      <td>East Toronto</td>\n      <td>The Beaches</td>\n      <td>43.676357</td>\n      <td>-79.293031</td>\n    </tr>\n    <tr>\n      <th>5</th>\n      <td>M5E</td>\n      <td>Downtown Toronto</td>\n      <td>Berczy Park</td>\n      <td>43.644771</td>\n      <td>-79.373306</td>\n    </tr>\n    <tr>\n      <th>6</th>\n      <td>M5G</td>\n      <td>Downtown Toronto</td>\n      <td>Central Bay Street</td>\n      <td>43.657952</td>\n      <td>-79.387383</td>\n    </tr>\n    <tr>\n      <th>7</th>\n      <td>M6G</td>\n      <td>Downtown Toronto</td>\n      <td>Christie</td>\n      <td>43.669542</td>\n      <td>-79.422564</td>\n    </tr>\n    <tr>\n      <th>8</th>\n      <td>M5H</td>\n      <td>Downtown Toronto</td>\n      <td>Richmond, Adelaide, King</td>\n      <td>43.650571</td>\n      <td>-79.384568</td>\n    </tr>\n    <tr>\n      <th>9</th>\n      <td>M6H</td>\n      <td>West Toronto</td>\n      <td>Dufferin, Dovercourt Village</td>\n      <td>43.669005</td>\n      <td>-79.442259</td>\n    </tr>\n    <tr>\n      <th>10</th>\n      <td>M5J</td>\n      <td>Downtown Toronto</td>\n      <td>Harbourfront East, Union Station, Toronto Islands</td>\n      <td>43.640816</td>\n      <td>-79.381752</td>\n    </tr>\n    <tr>\n      <th>11</th>\n      <td>M6J</td>\n      <td>West Toronto</td>\n      <td>Little Portugal, Trinity</td>\n      <td>43.647927</td>\n      <td>-79.419750</td>\n    </tr>\n    <tr>\n      <th>12</th>\n      <td>M4K</td>\n      <td>East Toronto</td>\n      <td>The Danforth West, Riverdale</td>\n      <td>43.679557</td>\n      <td>-79.352188</td>\n    </tr>\n    <tr>\n      <th>13</th>\n      <td>M5K</td>\n      <td>Downtown Toronto</td>\n      <td>Toronto Dominion Centre, Design Exchange</td>\n      <td>43.647177</td>\n      <td>-79.381576</td>\n    </tr>\n    <tr>\n      <th>14</th>\n      <td>M6K</td>\n      <td>West Toronto</td>\n      <td>Brockton, Parkdale Village, Exhibition Place</td>\n      <td>43.636847</td>\n      <td>-79.428191</td>\n    </tr>\n    <tr>\n      <th>15</th>\n      <td>M4L</td>\n      <td>East Toronto</td>\n      <td>India Bazaar, The Beaches West</td>\n      <td>43.668999</td>\n      <td>-79.315572</td>\n    </tr>\n    <tr>\n      <th>16</th>\n      <td>M5L</td>\n      <td>Downtown Toronto</td>\n      <td>Commerce Court, Victoria Hotel</td>\n      <td>43.648198</td>\n      <td>-79.379817</td>\n    </tr>\n    <tr>\n      <th>17</th>\n      <td>M4M</td>\n      <td>East Toronto</td>\n      <td>Studio District</td>\n      <td>43.659526</td>\n      <td>-79.340923</td>\n    </tr>\n    <tr>\n      <th>18</th>\n      <td>M4N</td>\n      <td>Central Toronto</td>\n      <td>Lawrence Park</td>\n      <td>43.728020</td>\n      <td>-79.388790</td>\n    </tr>\n    <tr>\n      <th>19</th>\n      <td>M5N</td>\n      <td>Central Toronto</td>\n      <td>Roselawn</td>\n      <td>43.711695</td>\n      <td>-79.416936</td>\n    </tr>\n    <tr>\n      <th>20</th>\n      <td>M4P</td>\n      <td>Central Toronto</td>\n      <td>Davisville North</td>\n      <td>43.712751</td>\n      <td>-79.390197</td>\n    </tr>\n    <tr>\n      <th>21</th>\n      <td>M5P</td>\n      <td>Central Toronto</td>\n      <td>Forest Hill North &amp; West, Forest Hill Road Park</td>\n      <td>43.696948</td>\n      <td>-79.411307</td>\n    </tr>\n    <tr>\n      <th>22</th>\n      <td>M6P</td>\n      <td>West Toronto</td>\n      <td>High Park, The Junction South</td>\n      <td>43.661608</td>\n      <td>-79.464763</td>\n    </tr>\n    <tr>\n      <th>23</th>\n      <td>M4R</td>\n      <td>Central Toronto</td>\n      <td>North Toronto West,  Lawrence Park</td>\n      <td>43.715383</td>\n      <td>-79.405678</td>\n    </tr>\n    <tr>\n      <th>24</th>\n      <td>M5R</td>\n      <td>Central Toronto</td>\n      <td>The Annex, North Midtown, Yorkville</td>\n      <td>43.672710</td>\n      <td>-79.405678</td>\n    </tr>\n    <tr>\n      <th>25</th>\n      <td>M6R</td>\n      <td>West Toronto</td>\n      <td>Parkdale, Roncesvalles</td>\n      <td>43.648960</td>\n      <td>-79.456325</td>\n    </tr>\n    <tr>\n      <th>26</th>\n      <td>M4S</td>\n      <td>Central Toronto</td>\n      <td>Davisville</td>\n      <td>43.704324</td>\n      <td>-79.388790</td>\n    </tr>\n    <tr>\n      <th>27</th>\n      <td>M5S</td>\n      <td>Downtown Toronto</td>\n      <td>University of Toronto, Harbord</td>\n      <td>43.662696</td>\n      <td>-79.400049</td>\n    </tr>\n    <tr>\n      <th>28</th>\n      <td>M6S</td>\n      <td>West Toronto</td>\n      <td>Runnymede, Swansea</td>\n      <td>43.651571</td>\n      <td>-79.484450</td>\n    </tr>\n    <tr>\n      <th>29</th>\n      <td>M4T</td>\n      <td>Central Toronto</td>\n      <td>Moore Park, Summerhill East</td>\n      <td>43.689574</td>\n      <td>-79.383160</td>\n    </tr>\n    <tr>\n      <th>30</th>\n      <td>M5T</td>\n      <td>Downtown Toronto</td>\n      <td>Kensington Market, Chinatown, Grange Park</td>\n      <td>43.653206</td>\n      <td>-79.400049</td>\n    </tr>\n    <tr>\n      <th>31</th>\n      <td>M4V</td>\n      <td>Central Toronto</td>\n      <td>Summerhill West, Rathnelly, South Hill, Forest...</td>\n      <td>43.686412</td>\n      <td>-79.400049</td>\n    </tr>\n    <tr>\n      <th>32</th>\n      <td>M5V</td>\n      <td>Downtown Toronto</td>\n      <td>CN Tower, King and Spadina, Railway Lands, Har...</td>\n      <td>43.628947</td>\n      <td>-79.394420</td>\n    </tr>\n    <tr>\n      <th>33</th>\n      <td>M4W</td>\n      <td>Downtown Toronto</td>\n      <td>Rosedale</td>\n      <td>43.679563</td>\n      <td>-79.377529</td>\n    </tr>\n    <tr>\n      <th>34</th>\n      <td>M5W</td>\n      <td>Downtown Toronto</td>\n      <td>Stn A PO Boxes</td>\n      <td>43.646435</td>\n      <td>-79.374846</td>\n    </tr>\n    <tr>\n      <th>35</th>\n      <td>M4X</td>\n      <td>Downtown Toronto</td>\n      <td>St. James Town, Cabbagetown</td>\n      <td>43.667967</td>\n      <td>-79.367675</td>\n    </tr>\n    <tr>\n      <th>36</th>\n      <td>M5X</td>\n      <td>Downtown Toronto</td>\n      <td>First Canadian Place, Underground city</td>\n      <td>43.648429</td>\n      <td>-79.382280</td>\n    </tr>\n    <tr>\n      <th>37</th>\n      <td>M4Y</td>\n      <td>Downtown Toronto</td>\n      <td>Church and Wellesley</td>\n      <td>43.665860</td>\n      <td>-79.383160</td>\n    </tr>\n    <tr>\n      <th>38</th>\n      <td>M7Y</td>\n      <td>East Toronto</td>\n      <td>Business reply mail Processing Centre, South C...</td>\n      <td>43.662744</td>\n      <td>-79.321558</td>\n    </tr>\n  </tbody>\n</table>\n</div>"
                    },
                    "metadata": {}
                }
            ]
        },
        {
            "metadata": {},
            "cell_type": "markdown",
            "source": "Similar things will be done to get New York data. We will fetch the data for the whole NYC instead of just Manhattan."
        },
        {
            "metadata": {},
            "cell_type": "code",
            "source": "!wget -q -O 'newyork_data.json' https://cocl.us/new_york_dataset\nwith open('newyork_data.json') as json_data:\n    newyork_data = json.load(json_data)",
            "execution_count": 13,
            "outputs": []
        },
        {
            "metadata": {},
            "cell_type": "code",
            "source": "neighborhoods_data = newyork_data['features']\n# define the dataframe columns\ncolumn_names = ['Borough', 'Hood', 'Latitude', 'Longitude'] \n\n# instantiate the dataframe\nneighborhoods = pd.DataFrame(columns=column_names)\n\nfor data in neighborhoods_data:\n    borough = neighborhood_name = data['properties']['borough'] \n    neighborhood_name = data['properties']['name']\n        \n    neighborhood_latlon = data['geometry']['coordinates']\n    neighborhood_lat = neighborhood_latlon[1]\n    neighborhood_lon = neighborhood_latlon[0]\n    \n    neighborhoods = neighborhoods.append({'Borough': borough,\n                                          'Hood': neighborhood_name,\n                                          'Latitude': neighborhood_lat,\n                                          'Longitude': neighborhood_lon}, ignore_index=True)",
            "execution_count": 14,
            "outputs": []
        },
        {
            "metadata": {},
            "cell_type": "markdown",
            "source": "Again, 'Neighborhood' is named 'Hood'."
        },
        {
            "metadata": {},
            "cell_type": "code",
            "source": "print('The dataframe has {} boroughs and {} neighborhoods.'.format(\n        len(neighborhoods['Borough'].unique()),\n        neighborhoods.shape[0]\n    )\n)\n# Change the name\ndf_newyork = neighborhoods",
            "execution_count": 15,
            "outputs": [
                {
                    "output_type": "stream",
                    "text": "The dataframe has 5 boroughs and 306 neighborhoods.\n",
                    "name": "stdout"
                }
            ]
        },
        {
            "metadata": {},
            "cell_type": "code",
            "source": "df_newyork.head()",
            "execution_count": 16,
            "outputs": [
                {
                    "output_type": "execute_result",
                    "execution_count": 16,
                    "data": {
                        "text/plain": "  Borough         Hood   Latitude  Longitude\n0   Bronx    Wakefield  40.894705 -73.847201\n1   Bronx   Co-op City  40.874294 -73.829939\n2   Bronx  Eastchester  40.887556 -73.827806\n3   Bronx    Fieldston  40.895437 -73.905643\n4   Bronx    Riverdale  40.890834 -73.912585",
                        "text/html": "<div>\n<style scoped>\n    .dataframe tbody tr th:only-of-type {\n        vertical-align: middle;\n    }\n\n    .dataframe tbody tr th {\n        vertical-align: top;\n    }\n\n    .dataframe thead th {\n        text-align: right;\n    }\n</style>\n<table border=\"1\" class=\"dataframe\">\n  <thead>\n    <tr style=\"text-align: right;\">\n      <th></th>\n      <th>Borough</th>\n      <th>Hood</th>\n      <th>Latitude</th>\n      <th>Longitude</th>\n    </tr>\n  </thead>\n  <tbody>\n    <tr>\n      <th>0</th>\n      <td>Bronx</td>\n      <td>Wakefield</td>\n      <td>40.894705</td>\n      <td>-73.847201</td>\n    </tr>\n    <tr>\n      <th>1</th>\n      <td>Bronx</td>\n      <td>Co-op City</td>\n      <td>40.874294</td>\n      <td>-73.829939</td>\n    </tr>\n    <tr>\n      <th>2</th>\n      <td>Bronx</td>\n      <td>Eastchester</td>\n      <td>40.887556</td>\n      <td>-73.827806</td>\n    </tr>\n    <tr>\n      <th>3</th>\n      <td>Bronx</td>\n      <td>Fieldston</td>\n      <td>40.895437</td>\n      <td>-73.905643</td>\n    </tr>\n    <tr>\n      <th>4</th>\n      <td>Bronx</td>\n      <td>Riverdale</td>\n      <td>40.890834</td>\n      <td>-73.912585</td>\n    </tr>\n  </tbody>\n</table>\n</div>"
                    },
                    "metadata": {}
                }
            ]
        },
        {
            "metadata": {},
            "cell_type": "markdown",
            "source": "Now, let's set up Foursquare credentials. "
        },
        {
            "metadata": {},
            "cell_type": "code",
            "source": "CLIENT_ID = 'VL3S4DCT1KRZF3FTAC2JZLNZYQLOHPQ4HMEEITVKAMZRMMOZ'\nCLIENT_SECRET = 'QLJMPTMTLO5FUEYY4CYS22BEGVHUMWNFANPKCGRQYE4YXYQB'\nVERSION = '20180605' # Foursquare API version\n\nprint('Your credentails:')\nprint('CLIENT_ID: ' + CLIENT_ID)\nprint('CLIENT_SECRET:' + CLIENT_SECRET)",
            "execution_count": 17,
            "outputs": [
                {
                    "output_type": "stream",
                    "text": "Your credentails:\nCLIENT_ID: VL3S4DCT1KRZF3FTAC2JZLNZYQLOHPQ4HMEEITVKAMZRMMOZ\nCLIENT_SECRET:QLJMPTMTLO5FUEYY4CYS22BEGVHUMWNFANPKCGRQYE4YXYQB\n",
                    "name": "stdout"
                }
            ]
        },
        {
            "metadata": {},
            "cell_type": "code",
            "source": "def getNearbyVenues(names, latitudes, longitudes, radius=500):\n    \n    venues_list=[]\n    for name, lat, lng in zip(names, latitudes, longitudes):\n        print(name)\n        LIMIT = 100\n        # create the API request URL\n        url = 'https://api.foursquare.com/v2/venues/explore?&client_id={}&client_secret={}&v={}&ll={},{}&radius={}&limit={}'.format(\n            CLIENT_ID, \n            CLIENT_SECRET, \n            VERSION, \n            lat, \n            lng, \n            radius, \n            LIMIT)\n            \n        # make the GET request\n        results = requests.get(url).json()[\"response\"]['groups'][0]['items']\n        \n        # return only relevant information for each nearby venue\n        venues_list.append([(\n            name, \n            lat, \n            lng, \n            v['venue']['name'], \n            v['venue']['location']['lat'], \n            v['venue']['location']['lng'],  \n            v['venue']['categories'][0]['name']) for v in results])\n\n    nearby_venues = pd.DataFrame([item for venue_list in venues_list for item in venue_list])\n    nearby_venues.columns = ['Hood', \n                  'Neighborhood Latitude', \n                  'Neighborhood Longitude', \n                  'Venue', \n                  'Venue Latitude', \n                  'Venue Longitude', \n                  'Venue Category']\n    \n    return(nearby_venues)",
            "execution_count": 18,
            "outputs": []
        },
        {
            "metadata": {},
            "cell_type": "markdown",
            "source": "We will get venue informations by querying Foursquare database. **(Note that this part takes time. And due to the limitation on the account, it'd be nice to debug with only Toronto data or Paris data before we go all in and load the  New York data. New York data requires a lot more quieries. With a free account we can do the following for only once.)** "
        },
        {
            "metadata": {},
            "cell_type": "code",
            "source": "toronto_venues = getNearbyVenues(names=df_toronto['Hood'],\n                                   latitudes=df_toronto['Latitude'],\n                                   longitudes=df_toronto['Longitude']\n                                  )\nparis_venues = getNearbyVenues(names=df_paris['Hood'],\n                                   latitudes=df_paris['Latitude'],\n                                   longitudes=df_paris['Longitude']\n                                  )\nnewyork_venues = getNearbyVenues(names=df_newyork['Hood'],\n                                   latitudes=df_newyork['Latitude'],\n                                   longitudes=df_newyork['Longitude']\n                                  )\nprint('Done loading venues.')",
            "execution_count": 19,
            "outputs": [
                {
                    "output_type": "stream",
                    "text": "Regent Park, Harbourfront\nQueen's Park, Ontario Provincial Government\nGarden District, Ryerson\nSt. James Town\nThe Beaches\nBerczy Park\nCentral Bay Street\nChristie\nRichmond, Adelaide, King\nDufferin, Dovercourt Village\nHarbourfront East, Union Station, Toronto Islands\nLittle Portugal, Trinity\nThe Danforth West, Riverdale\nToronto Dominion Centre, Design Exchange\nBrockton, Parkdale Village, Exhibition Place\nIndia Bazaar, The Beaches West\nCommerce Court, Victoria Hotel\nStudio District\nLawrence Park\nRoselawn\nDavisville North\nForest Hill North & West, Forest Hill Road Park\nHigh Park, The Junction South\nNorth Toronto West,  Lawrence Park\nThe Annex, North Midtown, Yorkville\nParkdale, Roncesvalles\nDavisville\nUniversity of Toronto, Harbord\nRunnymede, Swansea\nMoore Park, Summerhill East\nKensington Market, Chinatown, Grange Park\nSummerhill West, Rathnelly, South Hill, Forest Hill SE, Deer Park\nCN Tower, King and Spadina, Railway Lands, Harbourfront West, Bathurst Quay, South Niagara, Island airport\nRosedale\nStn A PO Boxes\nSt. James Town, Cabbagetown\nFirst Canadian Place, Underground city\nChurch and Wellesley\nBusiness reply mail Processing Centre, South Central Letter Processing Plant Toronto\nLouvre\nBourse\nTemple\nH\u00f4tel-de-Ville\nPanth\u00e9on\nLuxembourg\nPalais-Bourbon\n\u00c9lys\u00e9e\nOp\u00e9ra\nEntrep\u00f4t\nPopincourt\nReuilly\nGobelins\nObservatoire\nVaugirard\nPassy\nBatignolles-Monceau\nButte-Montmartre\nButtes-Chaumont\nM\u00e9nilmontant\nWakefield\nCo-op City\nEastchester\nFieldston\nRiverdale\nKingsbridge\nMarble Hill\nWoodlawn\nNorwood\nWilliamsbridge\nBaychester\nPelham Parkway\nCity Island\nBedford Park\nUniversity Heights\nMorris Heights\nFordham\nEast Tremont\nWest Farms\nHigh  Bridge\nMelrose\nMott Haven\nPort Morris\nLongwood\nHunts Point\nMorrisania\nSoundview\nClason Point\nThrogs Neck\nCountry Club\nParkchester\nWestchester Square\nVan Nest\nMorris Park\nBelmont\nSpuyten Duyvil\nNorth Riverdale\nPelham Bay\nSchuylerville\nEdgewater Park\nCastle Hill\nOlinville\nPelham Gardens\nConcourse\nUnionport\nEdenwald\nBay Ridge\nBensonhurst\nSunset Park\nGreenpoint\nGravesend\nBrighton Beach\nSheepshead Bay\nManhattan Terrace\nFlatbush\nCrown Heights\nEast Flatbush\nKensington\nWindsor Terrace\nProspect Heights\nBrownsville\nWilliamsburg\nBushwick\nBedford Stuyvesant\nBrooklyn Heights\nCobble Hill\nCarroll Gardens\nRed Hook\nGowanus\nFort Greene\nPark Slope\nCypress Hills\nEast New York\nStarrett City\nCanarsie\nFlatlands\nMill Island\nManhattan Beach\nConey Island\nBath Beach\nBorough Park\nDyker Heights\nGerritsen Beach\nMarine Park\nClinton Hill\nSea Gate\nDowntown\nBoerum Hill\nProspect Lefferts Gardens\nOcean Hill\nCity Line\nBergen Beach\nMidwood\nProspect Park South\nGeorgetown\nEast Williamsburg\nNorth Side\nSouth Side\nOcean Parkway\nFort Hamilton\nChinatown\nWashington Heights\nInwood\nHamilton Heights\nManhattanville\nCentral Harlem\nEast Harlem\nUpper East Side\nYorkville\nLenox Hill\nRoosevelt Island\nUpper West Side\nLincoln Square\nClinton\nMidtown\nMurray Hill\nChelsea\nGreenwich Village\nEast Village\nLower East Side\nTribeca\nLittle Italy\nSoho\nWest Village\nManhattan Valley\nMorningside Heights\nGramercy\nBattery Park City\nFinancial District\nAstoria\nWoodside\nJackson Heights\nElmhurst\nHoward Beach\nCorona\nForest Hills\nKew Gardens\nRichmond Hill\nFlushing\nLong Island City\nSunnyside\nEast Elmhurst\nMaspeth\nRidgewood\nGlendale\nRego Park\nWoodhaven\nOzone Park\nSouth Ozone Park\nCollege Point\nWhitestone\nBayside\nAuburndale\nLittle Neck\nDouglaston\nGlen Oaks\nBellerose\nKew Gardens Hills\nFresh Meadows\nBriarwood\nJamaica Center\nOakland Gardens\nQueens Village\nHollis\nSouth Jamaica\nSt. Albans\nRochdale\nSpringfield Gardens\nCambria Heights\nRosedale\nFar Rockaway\nBroad Channel\nBreezy Point\nSteinway\nBeechhurst\nBay Terrace\nEdgemere\nArverne\nRockaway Beach\nNeponsit\nMurray Hill\nFloral Park\nHolliswood\nJamaica Estates\nQueensboro Hill\nHillcrest\nRavenswood\nLindenwood\nLaurelton\nLefrak City\nBelle Harbor\nRockaway Park\nSomerville\nBrookville\nBellaire\nNorth Corona\nForest Hills Gardens\nSt. George\nNew Brighton\nStapleton\nRosebank\nWest Brighton\nGrymes Hill\nTodt Hill\nSouth Beach\nPort Richmond\nMariner's Harbor\nPort Ivory\nCastleton Corners\nNew Springville\nTravis\nNew Dorp\nOakwood\nGreat Kills\nEltingville\nAnnadale\nWoodrow\nTottenville\nTompkinsville\nSilver Lake\nSunnyside\nDitmas Park\nWingate\nRugby\nPark Hill\nWesterleigh\nGraniteville\nArlington\nArrochar\nGrasmere\nOld Town\nDongan Hills\nMidland Beach\nGrant City\nNew Dorp Beach\nBay Terrace\nHuguenot\nPleasant Plains\nButler Manor\nCharleston\nRossville\nArden Heights\nGreenridge\nHeartland Village\nChelsea\nBloomfield\nBulls Head\nCarnegie Hill\nNoho\nCivic Center\nMidtown South\nRichmond Town\nShore Acres\nClifton\nConcord\nEmerson Hill\nRandall Manor\nHowland Hook\nElm Park\nRemsen Village\nNew Lots\nPaerdegat Basin\nMill Basin\nJamaica Hills\nUtopia\nPomonok\nAstoria Heights\nClaremont Village\nConcourse Village\nMount Eden\nMount Hope\nSutton Place\nHunters Point\nTurtle Bay\nTudor City\nStuyvesant Town\nFlatiron\nSunnyside Gardens\nBlissville\nFulton Ferry\nVinegar Hill\nWeeksville\nBroadway Junction\nDumbo\nManor Heights\nWillowbrook\nSandy Ground\nEgbertville\nRoxbury\nHomecrest\nMiddle Village\nPrince's Bay\nLighthouse Hill\nRichmond Valley\nMalba\nHighland Park\nMadison\nBronxdale\nAllerton\nKingsbridge Heights\nErasmus\nHudson Yards\nHammels\nBayswater\nQueensbridge\nFox Hills\nDone loading venues.\n",
                    "name": "stdout"
                }
            ]
        },
        {
            "metadata": {},
            "cell_type": "code",
            "source": "toronto_venues.to_csv(r'toronto_venues.csv', index = False)\nparis_venues.to_csv(r'paris_venues.csv', index = False)\nnewyork_venues.to_csv(r'newyork_venues.csv', index = False)\nprint('Venue files saved.')",
            "execution_count": 20,
            "outputs": [
                {
                    "output_type": "stream",
                    "text": "Venue files saved.\n",
                    "name": "stdout"
                }
            ]
        },
        {
            "metadata": {},
            "cell_type": "code",
            "source": "print(toronto_venues.shape)\ntoronto_venues.head()",
            "execution_count": 21,
            "outputs": [
                {
                    "output_type": "stream",
                    "text": "(1605, 7)\n",
                    "name": "stdout"
                },
                {
                    "output_type": "execute_result",
                    "execution_count": 21,
                    "data": {
                        "text/plain": "                        Hood  Neighborhood Latitude  Neighborhood Longitude  \\\n0  Regent Park, Harbourfront               43.65426              -79.360636   \n1  Regent Park, Harbourfront               43.65426              -79.360636   \n2  Regent Park, Harbourfront               43.65426              -79.360636   \n3  Regent Park, Harbourfront               43.65426              -79.360636   \n4  Regent Park, Harbourfront               43.65426              -79.360636   \n\n                    Venue  Venue Latitude  Venue Longitude  \\\n0        Roselle Desserts       43.653447       -79.362017   \n1           Tandem Coffee       43.653559       -79.361809   \n2      Morning Glory Cafe       43.653947       -79.361149   \n3  Cooper Koo Family YMCA       43.653249       -79.358008   \n4     Body Blitz Spa East       43.654735       -79.359874   \n\n        Venue Category  \n0               Bakery  \n1          Coffee Shop  \n2       Breakfast Spot  \n3  Distribution Center  \n4                  Spa  ",
                        "text/html": "<div>\n<style scoped>\n    .dataframe tbody tr th:only-of-type {\n        vertical-align: middle;\n    }\n\n    .dataframe tbody tr th {\n        vertical-align: top;\n    }\n\n    .dataframe thead th {\n        text-align: right;\n    }\n</style>\n<table border=\"1\" class=\"dataframe\">\n  <thead>\n    <tr style=\"text-align: right;\">\n      <th></th>\n      <th>Hood</th>\n      <th>Neighborhood Latitude</th>\n      <th>Neighborhood Longitude</th>\n      <th>Venue</th>\n      <th>Venue Latitude</th>\n      <th>Venue Longitude</th>\n      <th>Venue Category</th>\n    </tr>\n  </thead>\n  <tbody>\n    <tr>\n      <th>0</th>\n      <td>Regent Park, Harbourfront</td>\n      <td>43.65426</td>\n      <td>-79.360636</td>\n      <td>Roselle Desserts</td>\n      <td>43.653447</td>\n      <td>-79.362017</td>\n      <td>Bakery</td>\n    </tr>\n    <tr>\n      <th>1</th>\n      <td>Regent Park, Harbourfront</td>\n      <td>43.65426</td>\n      <td>-79.360636</td>\n      <td>Tandem Coffee</td>\n      <td>43.653559</td>\n      <td>-79.361809</td>\n      <td>Coffee Shop</td>\n    </tr>\n    <tr>\n      <th>2</th>\n      <td>Regent Park, Harbourfront</td>\n      <td>43.65426</td>\n      <td>-79.360636</td>\n      <td>Morning Glory Cafe</td>\n      <td>43.653947</td>\n      <td>-79.361149</td>\n      <td>Breakfast Spot</td>\n    </tr>\n    <tr>\n      <th>3</th>\n      <td>Regent Park, Harbourfront</td>\n      <td>43.65426</td>\n      <td>-79.360636</td>\n      <td>Cooper Koo Family YMCA</td>\n      <td>43.653249</td>\n      <td>-79.358008</td>\n      <td>Distribution Center</td>\n    </tr>\n    <tr>\n      <th>4</th>\n      <td>Regent Park, Harbourfront</td>\n      <td>43.65426</td>\n      <td>-79.360636</td>\n      <td>Body Blitz Spa East</td>\n      <td>43.654735</td>\n      <td>-79.359874</td>\n      <td>Spa</td>\n    </tr>\n  </tbody>\n</table>\n</div>"
                    },
                    "metadata": {}
                }
            ]
        },
        {
            "metadata": {},
            "cell_type": "code",
            "source": "print(paris_venues.shape)\nparis_venues.head()",
            "execution_count": 22,
            "outputs": [
                {
                    "output_type": "stream",
                    "text": "(1308, 7)\n",
                    "name": "stdout"
                },
                {
                    "output_type": "execute_result",
                    "execution_count": 22,
                    "data": {
                        "text/plain": "     Hood  Neighborhood Latitude  Neighborhood Longitude  \\\n0  Louvre              48.861147                2.338028   \n1  Louvre              48.861147                2.338028   \n2  Louvre              48.861147                2.338028   \n3  Louvre              48.861147                2.338028   \n4  Louvre              48.861147                2.338028   \n\n                              Venue  Venue Latitude  Venue Longitude  \\\n0             Cour Carr\u00e9e du Louvre       48.860360         2.338543   \n1                   Mus\u00e9e du Louvre       48.860847         2.336440   \n2  La V\u00e9nus de Milo (V\u00e9nus de Milo)       48.859943         2.337234   \n3             Place du Palais Royal       48.862523         2.336688   \n4                      Palais Royal       48.863236         2.337127   \n\n     Venue Category  \n0  Pedestrian Plaza  \n1        Art Museum  \n2           Exhibit  \n3             Plaza  \n4     Historic Site  ",
                        "text/html": "<div>\n<style scoped>\n    .dataframe tbody tr th:only-of-type {\n        vertical-align: middle;\n    }\n\n    .dataframe tbody tr th {\n        vertical-align: top;\n    }\n\n    .dataframe thead th {\n        text-align: right;\n    }\n</style>\n<table border=\"1\" class=\"dataframe\">\n  <thead>\n    <tr style=\"text-align: right;\">\n      <th></th>\n      <th>Hood</th>\n      <th>Neighborhood Latitude</th>\n      <th>Neighborhood Longitude</th>\n      <th>Venue</th>\n      <th>Venue Latitude</th>\n      <th>Venue Longitude</th>\n      <th>Venue Category</th>\n    </tr>\n  </thead>\n  <tbody>\n    <tr>\n      <th>0</th>\n      <td>Louvre</td>\n      <td>48.861147</td>\n      <td>2.338028</td>\n      <td>Cour Carr\u00e9e du Louvre</td>\n      <td>48.860360</td>\n      <td>2.338543</td>\n      <td>Pedestrian Plaza</td>\n    </tr>\n    <tr>\n      <th>1</th>\n      <td>Louvre</td>\n      <td>48.861147</td>\n      <td>2.338028</td>\n      <td>Mus\u00e9e du Louvre</td>\n      <td>48.860847</td>\n      <td>2.336440</td>\n      <td>Art Museum</td>\n    </tr>\n    <tr>\n      <th>2</th>\n      <td>Louvre</td>\n      <td>48.861147</td>\n      <td>2.338028</td>\n      <td>La V\u00e9nus de Milo (V\u00e9nus de Milo)</td>\n      <td>48.859943</td>\n      <td>2.337234</td>\n      <td>Exhibit</td>\n    </tr>\n    <tr>\n      <th>3</th>\n      <td>Louvre</td>\n      <td>48.861147</td>\n      <td>2.338028</td>\n      <td>Place du Palais Royal</td>\n      <td>48.862523</td>\n      <td>2.336688</td>\n      <td>Plaza</td>\n    </tr>\n    <tr>\n      <th>4</th>\n      <td>Louvre</td>\n      <td>48.861147</td>\n      <td>2.338028</td>\n      <td>Palais Royal</td>\n      <td>48.863236</td>\n      <td>2.337127</td>\n      <td>Historic Site</td>\n    </tr>\n  </tbody>\n</table>\n</div>"
                    },
                    "metadata": {}
                }
            ]
        },
        {
            "metadata": {},
            "cell_type": "code",
            "source": "print(newyork_venues.shape)\nnewyork_venues.head()",
            "execution_count": 23,
            "outputs": [
                {
                    "output_type": "stream",
                    "text": "(9866, 7)\n",
                    "name": "stdout"
                },
                {
                    "output_type": "execute_result",
                    "execution_count": 23,
                    "data": {
                        "text/plain": "        Hood  Neighborhood Latitude  Neighborhood Longitude             Venue  \\\n0  Wakefield              40.894705              -73.847201  Lollipops Gelato   \n1  Wakefield              40.894705              -73.847201  Carvel Ice Cream   \n2  Wakefield              40.894705              -73.847201         Walgreens   \n3  Wakefield              40.894705              -73.847201          Rite Aid   \n4  Wakefield              40.894705              -73.847201           Dunkin'   \n\n   Venue Latitude  Venue Longitude  Venue Category  \n0       40.894123       -73.845892    Dessert Shop  \n1       40.890487       -73.848568  Ice Cream Shop  \n2       40.896528       -73.844700        Pharmacy  \n3       40.896649       -73.844846        Pharmacy  \n4       40.890459       -73.849089      Donut Shop  ",
                        "text/html": "<div>\n<style scoped>\n    .dataframe tbody tr th:only-of-type {\n        vertical-align: middle;\n    }\n\n    .dataframe tbody tr th {\n        vertical-align: top;\n    }\n\n    .dataframe thead th {\n        text-align: right;\n    }\n</style>\n<table border=\"1\" class=\"dataframe\">\n  <thead>\n    <tr style=\"text-align: right;\">\n      <th></th>\n      <th>Hood</th>\n      <th>Neighborhood Latitude</th>\n      <th>Neighborhood Longitude</th>\n      <th>Venue</th>\n      <th>Venue Latitude</th>\n      <th>Venue Longitude</th>\n      <th>Venue Category</th>\n    </tr>\n  </thead>\n  <tbody>\n    <tr>\n      <th>0</th>\n      <td>Wakefield</td>\n      <td>40.894705</td>\n      <td>-73.847201</td>\n      <td>Lollipops Gelato</td>\n      <td>40.894123</td>\n      <td>-73.845892</td>\n      <td>Dessert Shop</td>\n    </tr>\n    <tr>\n      <th>1</th>\n      <td>Wakefield</td>\n      <td>40.894705</td>\n      <td>-73.847201</td>\n      <td>Carvel Ice Cream</td>\n      <td>40.890487</td>\n      <td>-73.848568</td>\n      <td>Ice Cream Shop</td>\n    </tr>\n    <tr>\n      <th>2</th>\n      <td>Wakefield</td>\n      <td>40.894705</td>\n      <td>-73.847201</td>\n      <td>Walgreens</td>\n      <td>40.896528</td>\n      <td>-73.844700</td>\n      <td>Pharmacy</td>\n    </tr>\n    <tr>\n      <th>3</th>\n      <td>Wakefield</td>\n      <td>40.894705</td>\n      <td>-73.847201</td>\n      <td>Rite Aid</td>\n      <td>40.896649</td>\n      <td>-73.844846</td>\n      <td>Pharmacy</td>\n    </tr>\n    <tr>\n      <th>4</th>\n      <td>Wakefield</td>\n      <td>40.894705</td>\n      <td>-73.847201</td>\n      <td>Dunkin'</td>\n      <td>40.890459</td>\n      <td>-73.849089</td>\n      <td>Donut Shop</td>\n    </tr>\n  </tbody>\n</table>\n</div>"
                    },
                    "metadata": {}
                }
            ]
        },
        {
            "metadata": {},
            "cell_type": "markdown",
            "source": "Let's also make sure that 'Neighborhood' is not in the column names any more. "
        },
        {
            "metadata": {},
            "cell_type": "code",
            "source": "print('Neighborhood' in toronto_venues.columns.to_list())\nprint('Neighborhood' in paris_venues.columns.to_list())\nprint('Neighborhood' in newyork_venues.columns.to_list())",
            "execution_count": 24,
            "outputs": [
                {
                    "output_type": "stream",
                    "text": "False\nFalse\nFalse\n",
                    "name": "stdout"
                }
            ]
        },
        {
            "metadata": {
                "scrolled": true
            },
            "cell_type": "code",
            "source": "print('There are {} uniques categories in Toronto venues.'.format(len(toronto_venues['Venue Category'].unique())))\nprint('There are {} uniques categories in Paris venues.'.format(len(paris_venues['Venue Category'].unique())))\nprint('There are {} uniques categories in New York venues.'.format(len(newyork_venues['Venue Category'].unique())))",
            "execution_count": 25,
            "outputs": [
                {
                    "output_type": "stream",
                    "text": "There are 235 uniques categories in Toronto venues.\nThere are 210 uniques categories in Paris venues.\nThere are 430 uniques categories in New York venues.\n",
                    "name": "stdout"
                }
            ]
        }
    ],
    "metadata": {
        "kernelspec": {
            "name": "python3",
            "display_name": "Python 3.6",
            "language": "python"
        },
        "language_info": {
            "name": "python",
            "version": "3.6.9",
            "mimetype": "text/x-python",
            "codemirror_mode": {
                "name": "ipython",
                "version": 3
            },
            "pygments_lexer": "ipython3",
            "nbconvert_exporter": "python",
            "file_extension": ".py"
        }
    },
    "nbformat": 4,
    "nbformat_minor": 1
}